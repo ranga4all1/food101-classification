{
 "cells": [
  {
   "cell_type": "markdown",
   "id": "f08f9c02",
   "metadata": {},
   "source": [
    "# Converting Tensorflow model to TF-Lite model\n",
    "\n",
    "- Tensorflow Lite is a lightweight alternative to Tensorflow that only focuses on inference\n",
    "- After conversion, test TF-Lite model for inference\n",
    "- Remove Tensorflow dependency"
   ]
  },
  {
   "cell_type": "code",
   "execution_count": 1,
   "id": "37a8e270",
   "metadata": {
    "execution": {
     "iopub.execute_input": "2022-12-17T06:19:10.784922Z",
     "iopub.status.busy": "2022-12-17T06:19:10.784442Z",
     "iopub.status.idle": "2022-12-17T06:19:10.799185Z",
     "shell.execute_reply": "2022-12-17T06:19:10.798446Z",
     "shell.execute_reply.started": "2022-12-17T06:19:10.784846Z"
    }
   },
   "outputs": [
    {
     "data": {
      "application/javascript": [
       "IPython.notebook.set_autosave_interval(0)"
      ]
     },
     "metadata": {},
     "output_type": "display_data"
    },
    {
     "name": "stdout",
     "output_type": "stream",
     "text": [
      "Autosave disabled\n"
     ]
    }
   ],
   "source": [
    "%autosave 0"
   ]
  },
  {
   "cell_type": "code",
   "execution_count": 2,
   "id": "4d77b177",
   "metadata": {
    "execution": {
     "iopub.execute_input": "2022-12-17T06:19:10.800513Z",
     "iopub.status.busy": "2022-12-17T06:19:10.800287Z",
     "iopub.status.idle": "2022-12-17T06:19:11.589611Z",
     "shell.execute_reply": "2022-12-17T06:19:11.589114Z",
     "shell.execute_reply.started": "2022-12-17T06:19:10.800495Z"
    }
   },
   "outputs": [
    {
     "name": "stdout",
     "output_type": "stream",
     "text": [
      "Python 3.9.13\n"
     ]
    }
   ],
   "source": [
    "!python -V"
   ]
  },
  {
   "cell_type": "code",
   "execution_count": 3,
   "id": "76f422a7",
   "metadata": {
    "execution": {
     "iopub.execute_input": "2022-12-17T06:19:11.590583Z",
     "iopub.status.busy": "2022-12-17T06:19:11.590383Z",
     "iopub.status.idle": "2022-12-17T06:19:13.356654Z",
     "shell.execute_reply": "2022-12-17T06:19:13.355961Z",
     "shell.execute_reply.started": "2022-12-17T06:19:11.590555Z"
    }
   },
   "outputs": [
    {
     "name": "stderr",
     "output_type": "stream",
     "text": [
      "2022-12-17 06:19:11.794816: I tensorflow/core/util/util.cc:169] oneDNN custom operations are on. You may see slightly different numerical results due to floating-point round-off errors from different computation orders. To turn them off, set the environment variable `TF_ENABLE_ONEDNN_OPTS=0`.\n"
     ]
    },
    {
     "data": {
      "text/plain": [
       "'2.9.1'"
      ]
     },
     "execution_count": 3,
     "metadata": {},
     "output_type": "execute_result"
    }
   ],
   "source": [
    "import numpy as np\n",
    "\n",
    "import tensorflow as tf\n",
    "from tensorflow import keras\n",
    "\n",
    "from tensorflow.keras.preprocessing.image import load_img\n",
    "from tensorflow.keras.applications.xception import preprocess_input\n",
    "\n",
    "tf.__version__"
   ]
  },
  {
   "cell_type": "code",
   "execution_count": 4,
   "id": "7cff12e6",
   "metadata": {
    "execution": {
     "iopub.execute_input": "2022-12-17T06:19:13.358582Z",
     "iopub.status.busy": "2022-12-17T06:19:13.358015Z",
     "iopub.status.idle": "2022-12-17T06:19:14.434241Z",
     "shell.execute_reply": "2022-12-17T06:19:14.433549Z",
     "shell.execute_reply.started": "2022-12-17T06:19:13.358558Z"
    }
   },
   "outputs": [
    {
     "name": "stdout",
     "output_type": "stream",
     "text": [
      "--2022-12-17 06:19:14--  https://bit.ly/3PzCqJ2\n",
      "Resolving bit.ly (bit.ly)... 67.199.248.10, 67.199.248.11\n",
      "Connecting to bit.ly (bit.ly)|67.199.248.10|:443... connected.\n",
      "HTTP request sent, awaiting response... 301 Moved Permanently\n",
      "Location: https://github.com/ranga4all1/images-for-inference/raw/main/samosa.jpg [following]\n",
      "--2022-12-17 06:19:14--  https://github.com/ranga4all1/images-for-inference/raw/main/samosa.jpg\n",
      "Resolving github.com (github.com)... 140.82.114.3\n",
      "Connecting to github.com (github.com)|140.82.114.3|:443... connected.\n",
      "HTTP request sent, awaiting response... 302 Found\n",
      "Location: https://raw.githubusercontent.com/ranga4all1/images-for-inference/main/samosa.jpg [following]\n",
      "--2022-12-17 06:19:14--  https://raw.githubusercontent.com/ranga4all1/images-for-inference/main/samosa.jpg\n",
      "Resolving raw.githubusercontent.com (raw.githubusercontent.com)... 185.199.109.133, 185.199.111.133, 185.199.108.133, ...\n",
      "Connecting to raw.githubusercontent.com (raw.githubusercontent.com)|185.199.109.133|:443... connected.\n",
      "HTTP request sent, awaiting response... 200 OK\n",
      "Length: 34257 (33K) [image/jpeg]\n",
      "Saving to: ‘samosa.jpg’\n",
      "\n",
      "samosa.jpg          100%[===================>]  33.45K  --.-KB/s    in 0.004s  \n",
      "\n",
      "2022-12-17 06:19:14 (8.63 MB/s) - ‘samosa.jpg’ saved [34257/34257]\n",
      "\n"
     ]
    }
   ],
   "source": [
    "!wget https://bit.ly/3PzCqJ2 -O samosa.jpg"
   ]
  },
  {
   "cell_type": "code",
   "execution_count": 5,
   "id": "d911b5ea",
   "metadata": {
    "execution": {
     "iopub.execute_input": "2022-12-17T06:19:14.435631Z",
     "iopub.status.busy": "2022-12-17T06:19:14.435317Z",
     "iopub.status.idle": "2022-12-17T06:19:16.767279Z",
     "shell.execute_reply": "2022-12-17T06:19:16.766674Z",
     "shell.execute_reply.started": "2022-12-17T06:19:14.435608Z"
    }
   },
   "outputs": [
    {
     "name": "stderr",
     "output_type": "stream",
     "text": [
      "2022-12-17 06:19:14.601870: I tensorflow/stream_executor/cuda/cuda_gpu_executor.cc:975] successful NUMA node read from SysFS had negative value (-1), but there must be at least one NUMA node, so returning NUMA node zero\n",
      "2022-12-17 06:19:14.609169: I tensorflow/stream_executor/cuda/cuda_gpu_executor.cc:975] successful NUMA node read from SysFS had negative value (-1), but there must be at least one NUMA node, so returning NUMA node zero\n",
      "2022-12-17 06:19:14.609742: I tensorflow/stream_executor/cuda/cuda_gpu_executor.cc:975] successful NUMA node read from SysFS had negative value (-1), but there must be at least one NUMA node, so returning NUMA node zero\n",
      "2022-12-17 06:19:14.610706: I tensorflow/core/platform/cpu_feature_guard.cc:193] This TensorFlow binary is optimized with oneAPI Deep Neural Network Library (oneDNN) to use the following CPU instructions in performance-critical operations:  AVX2 AVX512F AVX512_VNNI FMA\n",
      "To enable them in other operations, rebuild TensorFlow with the appropriate compiler flags.\n",
      "2022-12-17 06:19:14.611051: I tensorflow/stream_executor/cuda/cuda_gpu_executor.cc:975] successful NUMA node read from SysFS had negative value (-1), but there must be at least one NUMA node, so returning NUMA node zero\n",
      "2022-12-17 06:19:14.611656: I tensorflow/stream_executor/cuda/cuda_gpu_executor.cc:975] successful NUMA node read from SysFS had negative value (-1), but there must be at least one NUMA node, so returning NUMA node zero\n",
      "2022-12-17 06:19:14.612182: I tensorflow/stream_executor/cuda/cuda_gpu_executor.cc:975] successful NUMA node read from SysFS had negative value (-1), but there must be at least one NUMA node, so returning NUMA node zero\n",
      "2022-12-17 06:19:15.229745: I tensorflow/stream_executor/cuda/cuda_gpu_executor.cc:975] successful NUMA node read from SysFS had negative value (-1), but there must be at least one NUMA node, so returning NUMA node zero\n",
      "2022-12-17 06:19:15.230394: I tensorflow/stream_executor/cuda/cuda_gpu_executor.cc:975] successful NUMA node read from SysFS had negative value (-1), but there must be at least one NUMA node, so returning NUMA node zero\n",
      "2022-12-17 06:19:15.230999: I tensorflow/stream_executor/cuda/cuda_gpu_executor.cc:975] successful NUMA node read from SysFS had negative value (-1), but there must be at least one NUMA node, so returning NUMA node zero\n",
      "2022-12-17 06:19:15.231537: I tensorflow/core/common_runtime/gpu/gpu_device.cc:1532] Created device /job:localhost/replica:0/task:0/device:GPU:0 with 13795 MB memory:  -> device: 0, name: Tesla T4, pci bus id: 0000:00:1e.0, compute capability: 7.5\n"
     ]
    }
   ],
   "source": [
    "model = keras.models.load_model('food101-model.h5')"
   ]
  },
  {
   "cell_type": "code",
   "execution_count": 6,
   "id": "51863ac5",
   "metadata": {
    "execution": {
     "iopub.execute_input": "2022-12-17T06:19:16.768533Z",
     "iopub.status.busy": "2022-12-17T06:19:16.768264Z",
     "iopub.status.idle": "2022-12-17T06:19:16.781581Z",
     "shell.execute_reply": "2022-12-17T06:19:16.781048Z",
     "shell.execute_reply.started": "2022-12-17T06:19:16.768514Z"
    }
   },
   "outputs": [],
   "source": [
    "img = load_img('samosa.jpg', target_size=(299, 299))\n",
    "\n",
    "x = np.array(img)\n",
    "X = np.array([x])\n",
    "\n",
    "X = preprocess_input(X)"
   ]
  },
  {
   "cell_type": "code",
   "execution_count": 7,
   "id": "9c759646",
   "metadata": {
    "execution": {
     "iopub.execute_input": "2022-12-17T06:19:16.782577Z",
     "iopub.status.busy": "2022-12-17T06:19:16.782365Z",
     "iopub.status.idle": "2022-12-17T06:19:19.285302Z",
     "shell.execute_reply": "2022-12-17T06:19:19.284725Z",
     "shell.execute_reply.started": "2022-12-17T06:19:16.782558Z"
    }
   },
   "outputs": [
    {
     "name": "stderr",
     "output_type": "stream",
     "text": [
      "2022-12-17 06:19:18.004129: I tensorflow/stream_executor/cuda/cuda_dnn.cc:384] Loaded cuDNN version 8100\n",
      "2022-12-17 06:19:18.610460: I tensorflow/core/platform/default/subprocess.cc:304] Start cannot spawn child process: No such file or directory\n",
      "2022-12-17 06:19:18.611354: I tensorflow/core/platform/default/subprocess.cc:304] Start cannot spawn child process: No such file or directory\n",
      "2022-12-17 06:19:18.611393: W tensorflow/stream_executor/gpu/asm_compiler.cc:80] Couldn't get ptxas version string: INTERNAL: Couldn't invoke ptxas --version\n",
      "2022-12-17 06:19:18.612234: I tensorflow/core/platform/default/subprocess.cc:304] Start cannot spawn child process: No such file or directory\n",
      "2022-12-17 06:19:18.612314: W tensorflow/stream_executor/gpu/redzone_allocator.cc:314] INTERNAL: Failed to launch ptxas\n",
      "Relying on driver to perform ptx compilation. \n",
      "Modify $PATH to customize ptxas location.\n",
      "This message will be only logged once.\n"
     ]
    },
    {
     "name": "stdout",
     "output_type": "stream",
     "text": [
      "1/1 [==============================] - 2s 2s/step\n"
     ]
    }
   ],
   "source": [
    "preds = model.predict(X)"
   ]
  },
  {
   "cell_type": "code",
   "execution_count": 8,
   "id": "ae8e063e",
   "metadata": {
    "execution": {
     "iopub.execute_input": "2022-12-17T06:19:19.286713Z",
     "iopub.status.busy": "2022-12-17T06:19:19.286407Z",
     "iopub.status.idle": "2022-12-17T06:19:19.291346Z",
     "shell.execute_reply": "2022-12-17T06:19:19.290768Z",
     "shell.execute_reply.started": "2022-12-17T06:19:19.286692Z"
    }
   },
   "outputs": [
    {
     "data": {
      "text/plain": [
       "array([[-1.581987  , -2.3650863 , -2.5601494 ,  1.1118977 , -3.2538712 ,\n",
       "        -3.1710904 ,  8.922007  , -0.11740025]], dtype=float32)"
      ]
     },
     "execution_count": 8,
     "metadata": {},
     "output_type": "execute_result"
    }
   ],
   "source": [
    "preds"
   ]
  },
  {
   "cell_type": "code",
   "execution_count": 9,
   "id": "09565d86",
   "metadata": {
    "execution": {
     "iopub.execute_input": "2022-12-17T06:19:19.292355Z",
     "iopub.status.busy": "2022-12-17T06:19:19.292097Z",
     "iopub.status.idle": "2022-12-17T06:19:19.295637Z",
     "shell.execute_reply": "2022-12-17T06:19:19.295053Z",
     "shell.execute_reply.started": "2022-12-17T06:19:19.292337Z"
    }
   },
   "outputs": [],
   "source": [
    "classes = ['cup_cakes', 'french_fries', 'hamburger', 'pizza', 'ramen', 'onion_rings', 'samosa', 'waffles']"
   ]
  },
  {
   "cell_type": "code",
   "execution_count": 10,
   "id": "17c956c3",
   "metadata": {
    "execution": {
     "iopub.execute_input": "2022-12-17T06:19:19.298003Z",
     "iopub.status.busy": "2022-12-17T06:19:19.297736Z",
     "iopub.status.idle": "2022-12-17T06:19:19.303869Z",
     "shell.execute_reply": "2022-12-17T06:19:19.303265Z",
     "shell.execute_reply.started": "2022-12-17T06:19:19.297985Z"
    }
   },
   "outputs": [
    {
     "data": {
      "text/plain": [
       "{'cup_cakes': -1.581987,\n",
       " 'french_fries': -2.3650863,\n",
       " 'hamburger': -2.5601494,\n",
       " 'pizza': 1.1118977,\n",
       " 'ramen': -3.2538712,\n",
       " 'onion_rings': -3.1710904,\n",
       " 'samosa': 8.922007,\n",
       " 'waffles': -0.11740025}"
      ]
     },
     "execution_count": 10,
     "metadata": {},
     "output_type": "execute_result"
    }
   ],
   "source": [
    "dict(zip(classes, preds[0]))"
   ]
  },
  {
   "cell_type": "markdown",
   "id": "50149c7f",
   "metadata": {},
   "source": [
    "## Convert Keras to TF-Lite"
   ]
  },
  {
   "cell_type": "code",
   "execution_count": 11,
   "id": "898dc5cf",
   "metadata": {
    "execution": {
     "iopub.execute_input": "2022-12-17T06:19:19.305229Z",
     "iopub.status.busy": "2022-12-17T06:19:19.304703Z",
     "iopub.status.idle": "2022-12-17T06:19:44.241853Z",
     "shell.execute_reply": "2022-12-17T06:19:44.241147Z",
     "shell.execute_reply.started": "2022-12-17T06:19:19.305200Z"
    },
    "scrolled": true
   },
   "outputs": [
    {
     "name": "stderr",
     "output_type": "stream",
     "text": [
      "WARNING:absl:Found untraced functions such as _jit_compiled_convolution_op, _jit_compiled_convolution_op, _jit_compiled_convolution_op, _jit_compiled_convolution_op, _jit_compiled_convolution_op while saving (showing 5 of 40). These functions will not be directly callable after loading.\n"
     ]
    },
    {
     "name": "stdout",
     "output_type": "stream",
     "text": [
      "INFO:tensorflow:Assets written to: /tmp/tmpe80a7b7x/assets\n"
     ]
    },
    {
     "name": "stderr",
     "output_type": "stream",
     "text": [
      "INFO:tensorflow:Assets written to: /tmp/tmpe80a7b7x/assets\n",
      "2022-12-17 06:19:40.879000: W tensorflow/compiler/mlir/lite/python/tf_tfl_flatbuffer_helpers.cc:362] Ignored output_format.\n",
      "2022-12-17 06:19:40.879043: W tensorflow/compiler/mlir/lite/python/tf_tfl_flatbuffer_helpers.cc:365] Ignored drop_control_dependency.\n",
      "2022-12-17 06:19:40.879864: I tensorflow/cc/saved_model/reader.cc:43] Reading SavedModel from: /tmp/tmpe80a7b7x\n",
      "2022-12-17 06:19:40.906266: I tensorflow/cc/saved_model/reader.cc:81] Reading meta graph with tags { serve }\n",
      "2022-12-17 06:19:40.906295: I tensorflow/cc/saved_model/reader.cc:122] Reading SavedModel debug info (if present) from: /tmp/tmpe80a7b7x\n",
      "2022-12-17 06:19:40.993055: I tensorflow/compiler/mlir/mlir_graph_optimization_pass.cc:354] MLIR V1 optimization pass is not enabled\n",
      "2022-12-17 06:19:41.016828: I tensorflow/cc/saved_model/loader.cc:228] Restoring SavedModel bundle.\n",
      "2022-12-17 06:19:41.527900: I tensorflow/cc/saved_model/loader.cc:212] Running initialization op on SavedModel bundle at path: /tmp/tmpe80a7b7x\n",
      "2022-12-17 06:19:41.717271: I tensorflow/cc/saved_model/loader.cc:301] SavedModel load for tags { serve }; Status: success: OK. Took 837410 microseconds.\n",
      "2022-12-17 06:19:42.084831: I tensorflow/compiler/mlir/tensorflow/utils/dump_mlir_util.cc:263] disabling MLIR crash reproducer, set env var `MLIR_CRASH_REPRODUCER_DIRECTORY` to enable.\n"
     ]
    }
   ],
   "source": [
    "converter = tf.lite.TFLiteConverter.from_keras_model(model)\n",
    "\n",
    "tflite_model = converter.convert()\n",
    "\n",
    "with open('food101-model.tflite', 'wb') as f_out:\n",
    "    f_out.write(tflite_model)"
   ]
  },
  {
   "cell_type": "code",
   "execution_count": 12,
   "id": "6d47a365",
   "metadata": {
    "execution": {
     "iopub.execute_input": "2022-12-17T06:19:44.243496Z",
     "iopub.status.busy": "2022-12-17T06:19:44.243141Z",
     "iopub.status.idle": "2022-12-17T06:19:45.128491Z",
     "shell.execute_reply": "2022-12-17T06:19:45.127790Z",
     "shell.execute_reply.started": "2022-12-17T06:19:44.243475Z"
    }
   },
   "outputs": [
    {
     "name": "stdout",
     "output_type": "stream",
     "text": [
      "total 410M\n",
      "-rw-rw-r-- 1 jovyan jovyan 1.5K Dec 17 02:48 convert.py\n",
      "drwxr-sr-x 3 jovyan jovyan 4.0K Dec 17 04:35 data\n",
      "-rw-r--r-- 1 jovyan jovyan  83M Dec 17 06:07 food101-model.h5\n",
      "-rw-rw-r-- 1 jovyan jovyan  83M Dec 17 02:15 food101-model-old.h5\n",
      "-rw-rw-r-- 1 jovyan jovyan  81M Dec 17 06:19 food101-model.tflite\n",
      "-rw-rw-r-- 1 jovyan jovyan  960 Dec 16 01:13 lambda_function.py\n",
      "-rw-rw-r-- 1 jovyan jovyan  80M Dec 17 04:55 model_v1.h5\n",
      "-rw-rw-r-- 1 jovyan jovyan 5.3M Dec 17 06:15 notebook.ipynb\n",
      "-rw-rw-r-- 1 jovyan jovyan  73K Dec 16 00:43 onion-rings.jpg\n",
      "-rw-rw-r-- 1 jovyan jovyan  11K Dec 17 05:19 README.md\n",
      "-rw-rw-r-- 1 jovyan jovyan  122 Dec 17 05:21 requirements.txt\n",
      "-rw-rw-r-- 1 jovyan jovyan  34K Dec 17 06:19 samosa.jpg\n",
      "-rw-rw-r-- 1 jovyan jovyan  271 Dec 16 03:29 test-aws.py\n",
      "-rw-rw-r-- 1 jovyan jovyan  271 Dec 16 01:46 test-local.py\n",
      "-rw-rw-r-- 1 jovyan jovyan 1.3K Dec 17 02:40 test-tf-model.py\n",
      "-rw-rw-r-- 1 jovyan jovyan  32K Dec 17 06:18 tflite-notebook.ipynb\n",
      "-rw-rw-r-- 1 jovyan jovyan 3.0K Dec 17 05:04 train.py\n",
      "-rw-rw-r-- 1 jovyan jovyan  55K Dec 16 00:42 waffle.jpg\n",
      "-rw-r--r-- 1 jovyan jovyan  81M Dec 17 04:58 xception_v1_06_0.851.h5\n"
     ]
    }
   ],
   "source": [
    "!ls -lh"
   ]
  },
  {
   "cell_type": "code",
   "execution_count": 13,
   "id": "43051d0f",
   "metadata": {
    "execution": {
     "iopub.execute_input": "2022-12-17T06:19:45.129967Z",
     "iopub.status.busy": "2022-12-17T06:19:45.129647Z",
     "iopub.status.idle": "2022-12-17T06:19:45.133561Z",
     "shell.execute_reply": "2022-12-17T06:19:45.133007Z",
     "shell.execute_reply.started": "2022-12-17T06:19:45.129945Z"
    }
   },
   "outputs": [],
   "source": [
    "import tensorflow.lite as tflite"
   ]
  },
  {
   "cell_type": "code",
   "execution_count": 14,
   "id": "536f5426",
   "metadata": {
    "execution": {
     "iopub.execute_input": "2022-12-17T06:19:45.134719Z",
     "iopub.status.busy": "2022-12-17T06:19:45.134416Z",
     "iopub.status.idle": "2022-12-17T06:19:45.246685Z",
     "shell.execute_reply": "2022-12-17T06:19:45.245777Z",
     "shell.execute_reply.started": "2022-12-17T06:19:45.134696Z"
    }
   },
   "outputs": [
    {
     "name": "stderr",
     "output_type": "stream",
     "text": [
      "INFO: Created TensorFlow Lite XNNPACK delegate for CPU.\n"
     ]
    }
   ],
   "source": [
    "interpreter = tflite.Interpreter(model_path='food101-model.tflite')\n",
    "interpreter.allocate_tensors()\n",
    "\n",
    "input_index = interpreter.get_input_details()[0]['index']\n",
    "output_index = interpreter.get_output_details()[0]['index']"
   ]
  },
  {
   "cell_type": "code",
   "execution_count": 15,
   "id": "2787dd3b",
   "metadata": {
    "execution": {
     "iopub.execute_input": "2022-12-17T06:19:45.248554Z",
     "iopub.status.busy": "2022-12-17T06:19:45.248181Z",
     "iopub.status.idle": "2022-12-17T06:19:45.492043Z",
     "shell.execute_reply": "2022-12-17T06:19:45.491455Z",
     "shell.execute_reply.started": "2022-12-17T06:19:45.248522Z"
    }
   },
   "outputs": [],
   "source": [
    "interpreter.set_tensor(input_index, X)\n",
    "interpreter.invoke()\n",
    "preds = interpreter.get_tensor(output_index)"
   ]
  },
  {
   "cell_type": "code",
   "execution_count": 16,
   "id": "a6403dbc",
   "metadata": {
    "execution": {
     "iopub.execute_input": "2022-12-17T06:19:45.493675Z",
     "iopub.status.busy": "2022-12-17T06:19:45.493040Z",
     "iopub.status.idle": "2022-12-17T06:19:45.499460Z",
     "shell.execute_reply": "2022-12-17T06:19:45.498793Z",
     "shell.execute_reply.started": "2022-12-17T06:19:45.493642Z"
    }
   },
   "outputs": [
    {
     "data": {
      "text/plain": [
       "{'cup_cakes': -1.5819839,\n",
       " 'french_fries': -2.3650887,\n",
       " 'hamburger': -2.5601504,\n",
       " 'pizza': 1.1118973,\n",
       " 'ramen': -3.2538755,\n",
       " 'onion_rings': -3.1710863,\n",
       " 'samosa': 8.922006,\n",
       " 'waffles': -0.11740105}"
      ]
     },
     "execution_count": 16,
     "metadata": {},
     "output_type": "execute_result"
    }
   ],
   "source": [
    "classes = ['cup_cakes', 'french_fries', 'hamburger', 'pizza', 'ramen', 'onion_rings', 'samosa', 'waffles']\n",
    "\n",
    "dict(zip(classes, preds[0]))"
   ]
  },
  {
   "cell_type": "markdown",
   "id": "a50e64ac",
   "metadata": {},
   "source": [
    "## Removing TF dependency"
   ]
  },
  {
   "cell_type": "code",
   "execution_count": 17,
   "id": "49d4edbc",
   "metadata": {
    "execution": {
     "iopub.execute_input": "2022-12-17T06:19:45.501175Z",
     "iopub.status.busy": "2022-12-17T06:19:45.500550Z",
     "iopub.status.idle": "2022-12-17T06:19:45.504401Z",
     "shell.execute_reply": "2022-12-17T06:19:45.503717Z",
     "shell.execute_reply.started": "2022-12-17T06:19:45.501144Z"
    }
   },
   "outputs": [],
   "source": [
    "from PIL import Image"
   ]
  },
  {
   "cell_type": "code",
   "execution_count": 18,
   "id": "65e25a72",
   "metadata": {
    "execution": {
     "iopub.execute_input": "2022-12-17T06:19:45.505541Z",
     "iopub.status.busy": "2022-12-17T06:19:45.505216Z",
     "iopub.status.idle": "2022-12-17T06:19:45.513041Z",
     "shell.execute_reply": "2022-12-17T06:19:45.512509Z",
     "shell.execute_reply.started": "2022-12-17T06:19:45.505523Z"
    }
   },
   "outputs": [
    {
     "name": "stderr",
     "output_type": "stream",
     "text": [
      "/tmp/ipykernel_25670/1959593832.py:2: DeprecationWarning: NEAREST is deprecated and will be removed in Pillow 10 (2023-07-01). Use Resampling.NEAREST or Dither.NONE instead.\n",
      "  img = img.resize((299, 299), Image.NEAREST)\n"
     ]
    }
   ],
   "source": [
    "with Image.open('samosa.jpg') as img:\n",
    "    img = img.resize((299, 299), Image.NEAREST)"
   ]
  },
  {
   "cell_type": "code",
   "execution_count": 19,
   "id": "f06c8daa",
   "metadata": {
    "execution": {
     "iopub.execute_input": "2022-12-17T06:19:45.514077Z",
     "iopub.status.busy": "2022-12-17T06:19:45.513822Z",
     "iopub.status.idle": "2022-12-17T06:19:45.517144Z",
     "shell.execute_reply": "2022-12-17T06:19:45.516584Z",
     "shell.execute_reply.started": "2022-12-17T06:19:45.514059Z"
    }
   },
   "outputs": [],
   "source": [
    "def preprocess_input(x):\n",
    "    x /= 127.5\n",
    "    x -= 1.\n",
    "    return x"
   ]
  },
  {
   "cell_type": "code",
   "execution_count": 20,
   "id": "81bf48c8",
   "metadata": {
    "execution": {
     "iopub.execute_input": "2022-12-17T06:19:45.518122Z",
     "iopub.status.busy": "2022-12-17T06:19:45.517917Z",
     "iopub.status.idle": "2022-12-17T06:19:45.522869Z",
     "shell.execute_reply": "2022-12-17T06:19:45.522295Z",
     "shell.execute_reply.started": "2022-12-17T06:19:45.518104Z"
    }
   },
   "outputs": [],
   "source": [
    "x = np.array(img, dtype='float32')\n",
    "X = np.array([x])\n",
    "\n",
    "X = preprocess_input(X)"
   ]
  },
  {
   "cell_type": "code",
   "execution_count": 21,
   "id": "656b5981",
   "metadata": {
    "execution": {
     "iopub.execute_input": "2022-12-17T06:19:45.524018Z",
     "iopub.status.busy": "2022-12-17T06:19:45.523751Z",
     "iopub.status.idle": "2022-12-17T06:19:45.739766Z",
     "shell.execute_reply": "2022-12-17T06:19:45.739091Z",
     "shell.execute_reply.started": "2022-12-17T06:19:45.524000Z"
    }
   },
   "outputs": [],
   "source": [
    "interpreter.set_tensor(input_index, X)\n",
    "interpreter.invoke()\n",
    "preds = interpreter.get_tensor(output_index)"
   ]
  },
  {
   "cell_type": "code",
   "execution_count": 22,
   "id": "fd9bb26c",
   "metadata": {
    "execution": {
     "iopub.execute_input": "2022-12-17T06:19:45.741269Z",
     "iopub.status.busy": "2022-12-17T06:19:45.740887Z",
     "iopub.status.idle": "2022-12-17T06:19:45.746978Z",
     "shell.execute_reply": "2022-12-17T06:19:45.746214Z",
     "shell.execute_reply.started": "2022-12-17T06:19:45.741235Z"
    }
   },
   "outputs": [
    {
     "data": {
      "text/plain": [
       "{'cup_cakes': -1.5819839,\n",
       " 'french_fries': -2.3650887,\n",
       " 'hamburger': -2.5601504,\n",
       " 'pizza': 1.1118973,\n",
       " 'ramen': -3.2538755,\n",
       " 'onion_rings': -3.1710863,\n",
       " 'samosa': 8.922006,\n",
       " 'waffles': -0.11740105}"
      ]
     },
     "execution_count": 22,
     "metadata": {},
     "output_type": "execute_result"
    }
   ],
   "source": [
    "classes = ['cup_cakes', 'french_fries', 'hamburger', 'pizza', 'ramen', 'onion_rings', 'samosa', 'waffles']\n",
    "\n",
    "dict(zip(classes, preds[0]))"
   ]
  },
  {
   "cell_type": "markdown",
   "id": "9cfb17f7",
   "metadata": {},
   "source": [
    "## Simpler way of doing it"
   ]
  },
  {
   "cell_type": "code",
   "execution_count": 23,
   "id": "4225e13b",
   "metadata": {
    "execution": {
     "iopub.execute_input": "2022-12-17T06:19:45.748812Z",
     "iopub.status.busy": "2022-12-17T06:19:45.748113Z",
     "iopub.status.idle": "2022-12-17T06:19:48.119001Z",
     "shell.execute_reply": "2022-12-17T06:19:48.118191Z",
     "shell.execute_reply.started": "2022-12-17T06:19:45.748790Z"
    }
   },
   "outputs": [
    {
     "name": "stdout",
     "output_type": "stream",
     "text": [
      "Requirement already satisfied: keras-image-helper in /opt/saturncloud/envs/saturn/lib/python3.9/site-packages (0.0.1)\n",
      "Requirement already satisfied: pillow in /opt/saturncloud/envs/saturn/lib/python3.9/site-packages (from keras-image-helper) (9.2.0)\n",
      "Requirement already satisfied: numpy in /opt/saturncloud/envs/saturn/lib/python3.9/site-packages (from keras-image-helper) (1.21.6)\n"
     ]
    }
   ],
   "source": [
    "!pip install keras-image-helper"
   ]
  },
  {
   "cell_type": "code",
   "execution_count": 24,
   "id": "743b5fe1",
   "metadata": {
    "execution": {
     "iopub.execute_input": "2022-12-17T06:19:48.120897Z",
     "iopub.status.busy": "2022-12-17T06:19:48.120387Z",
     "iopub.status.idle": "2022-12-17T06:19:50.465847Z",
     "shell.execute_reply": "2022-12-17T06:19:50.465117Z",
     "shell.execute_reply.started": "2022-12-17T06:19:48.120857Z"
    }
   },
   "outputs": [
    {
     "name": "stdout",
     "output_type": "stream",
     "text": [
      "Requirement already satisfied: tflite_runtime==2.7 in /opt/saturncloud/envs/saturn/lib/python3.9/site-packages (2.7.0)\n",
      "Requirement already satisfied: numpy>=1.19.2 in /opt/saturncloud/envs/saturn/lib/python3.9/site-packages (from tflite_runtime==2.7) (1.21.6)\n"
     ]
    }
   ],
   "source": [
    "# !pip install --extra-index-url https://google-coral.github.io/py-repo/ tflite_runtime\n",
    "!pip install tflite_runtime==2.7"
   ]
  },
  {
   "cell_type": "code",
   "execution_count": 25,
   "id": "b9780017",
   "metadata": {
    "execution": {
     "iopub.execute_input": "2022-12-17T06:19:50.467955Z",
     "iopub.status.busy": "2022-12-17T06:19:50.467212Z",
     "iopub.status.idle": "2022-12-17T06:19:50.478025Z",
     "shell.execute_reply": "2022-12-17T06:19:50.477530Z",
     "shell.execute_reply.started": "2022-12-17T06:19:50.467916Z"
    }
   },
   "outputs": [],
   "source": [
    "#import tensorflow.lite as tflite\n",
    "import tflite_runtime.interpreter as tflite\n",
    "from keras_image_helper import create_preprocessor"
   ]
  },
  {
   "cell_type": "code",
   "execution_count": 26,
   "id": "f5903956",
   "metadata": {
    "execution": {
     "iopub.execute_input": "2022-12-17T06:19:50.479561Z",
     "iopub.status.busy": "2022-12-17T06:19:50.478998Z",
     "iopub.status.idle": "2022-12-17T06:19:50.492600Z",
     "shell.execute_reply": "2022-12-17T06:19:50.492062Z",
     "shell.execute_reply.started": "2022-12-17T06:19:50.479530Z"
    }
   },
   "outputs": [],
   "source": [
    "interpreter = tflite.Interpreter(model_path='food101-model.tflite')\n",
    "interpreter.allocate_tensors()\n",
    "\n",
    "input_index = interpreter.get_input_details()[0]['index']\n",
    "output_index = interpreter.get_output_details()[0]['index']"
   ]
  },
  {
   "cell_type": "code",
   "execution_count": 27,
   "id": "8146a9cb",
   "metadata": {
    "execution": {
     "iopub.execute_input": "2022-12-17T06:19:50.493829Z",
     "iopub.status.busy": "2022-12-17T06:19:50.493446Z",
     "iopub.status.idle": "2022-12-17T06:19:50.496954Z",
     "shell.execute_reply": "2022-12-17T06:19:50.496395Z",
     "shell.execute_reply.started": "2022-12-17T06:19:50.493809Z"
    }
   },
   "outputs": [],
   "source": [
    "preprocessor = create_preprocessor('xception', target_size=(299, 299))"
   ]
  },
  {
   "cell_type": "code",
   "execution_count": 28,
   "id": "81622bd1",
   "metadata": {
    "execution": {
     "iopub.execute_input": "2022-12-17T06:19:50.501033Z",
     "iopub.status.busy": "2022-12-17T06:19:50.500796Z",
     "iopub.status.idle": "2022-12-17T06:19:50.717865Z",
     "shell.execute_reply": "2022-12-17T06:19:50.717336Z",
     "shell.execute_reply.started": "2022-12-17T06:19:50.501016Z"
    }
   },
   "outputs": [],
   "source": [
    "url = 'https://bit.ly/3PzCqJ2'\n",
    "X = preprocessor.from_url(url)"
   ]
  },
  {
   "cell_type": "code",
   "execution_count": 29,
   "id": "811511aa",
   "metadata": {
    "execution": {
     "iopub.execute_input": "2022-12-17T06:19:50.719168Z",
     "iopub.status.busy": "2022-12-17T06:19:50.718814Z",
     "iopub.status.idle": "2022-12-17T06:19:51.710214Z",
     "shell.execute_reply": "2022-12-17T06:19:51.709622Z",
     "shell.execute_reply.started": "2022-12-17T06:19:50.719139Z"
    }
   },
   "outputs": [],
   "source": [
    "interpreter.set_tensor(input_index, X)\n",
    "interpreter.invoke()\n",
    "preds = interpreter.get_tensor(output_index)"
   ]
  },
  {
   "cell_type": "code",
   "execution_count": 30,
   "id": "17c925c5",
   "metadata": {
    "execution": {
     "iopub.execute_input": "2022-12-17T06:19:51.711930Z",
     "iopub.status.busy": "2022-12-17T06:19:51.711329Z",
     "iopub.status.idle": "2022-12-17T06:19:51.718122Z",
     "shell.execute_reply": "2022-12-17T06:19:51.717572Z",
     "shell.execute_reply.started": "2022-12-17T06:19:51.711898Z"
    }
   },
   "outputs": [
    {
     "data": {
      "text/plain": [
       "{'cup_cakes': -1.5819833,\n",
       " 'french_fries': -2.3650885,\n",
       " 'hamburger': -2.5601525,\n",
       " 'pizza': 1.111897,\n",
       " 'ramen': -3.253876,\n",
       " 'onion_rings': -3.171088,\n",
       " 'samosa': 8.922009,\n",
       " 'waffles': -0.11740293}"
      ]
     },
     "execution_count": 30,
     "metadata": {},
     "output_type": "execute_result"
    }
   ],
   "source": [
    "classes = ['cup_cakes', 'french_fries', 'hamburger', 'pizza', 'ramen', 'onion_rings', 'samosa', 'waffles']\n",
    "\n",
    "dict(zip(classes, preds[0]))"
   ]
  },
  {
   "cell_type": "code",
   "execution_count": null,
   "id": "062462e1",
   "metadata": {},
   "outputs": [],
   "source": []
  }
 ],
 "metadata": {
  "kernelspec": {
   "display_name": "saturn (Python 3)",
   "language": "python",
   "name": "python3"
  },
  "language_info": {
   "codemirror_mode": {
    "name": "ipython",
    "version": 3
   },
   "file_extension": ".py",
   "mimetype": "text/x-python",
   "name": "python",
   "nbconvert_exporter": "python",
   "pygments_lexer": "ipython3",
   "version": "3.9.13"
  },
  "vscode": {
   "interpreter": {
    "hash": "4e3bf3f40fc939142ca1a576fb0e33a5bd3189afad8e908e1845c54eecb334a4"
   }
  }
 },
 "nbformat": 4,
 "nbformat_minor": 5
}
